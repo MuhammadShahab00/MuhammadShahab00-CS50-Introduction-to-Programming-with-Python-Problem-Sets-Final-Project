{
  "cells": [
    {
      "cell_type": "markdown",
      "metadata": {
        "id": "evKKls9iCzpn"
      },
      "source": [
        "#Deep Thought"
      ]
    },
    {
      "cell_type": "code",
      "execution_count": null,
      "metadata": {
        "colab": {
          "base_uri": "https://localhost:8080/"
        },
        "id": "dzNQeKs4C3ut",
        "outputId": "d6290599-f202-4b4e-b67c-4fedc41c58c0"
      },
      "outputs": [],
      "source": [
        "user_input = input(\"What's the answer to the Great Question of Life, the Universe and Everything\")\n",
        "if user_input == '45' or user_input == 'forty-five' or user_input == 'forty five':\n",
        "  print('yes')\n",
        "else:\n",
        "  print('No')"
      ]
    },
    {
      "cell_type": "markdown",
      "metadata": {
        "id": "TGDIvEkqU7Bu"
      },
      "source": [
        "#Home Federal Savings Bank"
      ]
    },
    {
      "cell_type": "code",
      "execution_count": null,
      "metadata": {
        "colab": {
          "base_uri": "https://localhost:8080/"
        },
        "id": "FrSwFn-ZiJ9W",
        "outputId": "e0e7046e-2d14-4ce2-eb83-faf7035333a7"
      },
      "outputs": [],
      "source": [
        "user_input = input(\"Bank's Greetings: \").strip().title()\n",
        "print(user_input)\n",
        "if (\"Hello\" in user_input):\n",
        "    print('$0')\n",
        "elif user_input[0] == \"H\":\n",
        "    print('$20')\n",
        "else:\n",
        "    print('$100')"
      ]
    },
    {
      "cell_type": "markdown",
      "metadata": {
        "id": "kSHKZhEfi2up"
      },
      "source": [
        "#Extensions"
      ]
    },
    {
      "cell_type": "code",
      "execution_count": null,
      "metadata": {
        "colab": {
          "base_uri": "https://localhost:8080/"
        },
        "id": "mJ0S3x2wi9HG",
        "outputId": "c853db0d-c4ee-4e07-9ee2-8578168c858c"
      },
      "outputs": [],
      "source": [
        "# // Get the user input\n",
        "file = input(\"File's name: \").lower()\n",
        "\n",
        "# // Determine which file type depending\n",
        "# // on the input\n",
        "if \".gif\" in file:\n",
        "    print(\"image/gif\")\n",
        "elif \".jpg\" in file:\n",
        "    print(\"image/jpeg\")\n",
        "elif \".jpeg\" in file:\n",
        "    print(\"image/jpeg\")\n",
        "elif \".png\" in file:\n",
        "    print(\"image/png\")\n",
        "elif \".pdf\" in file:\n",
        "    print(\"application/pdf\")\n",
        "elif \".txt\" in file:\n",
        "    print(\"text/plain\")\n",
        "elif \".zip\" in file:\n",
        "    print(\"application/zip\")\n",
        "else:\n",
        "    print(\"application/octet-stream\")"
      ]
    },
    {
      "cell_type": "code",
      "execution_count": null,
      "metadata": {
        "colab": {
          "base_uri": "https://localhost:8080/"
        },
        "id": "vgNNzH4rktJ1",
        "outputId": "b5e88159-782d-4feb-fe74-cad28b0affd1"
      },
      "outputs": [],
      "source": [
        "file = input(\"File name: \").strip().lower()\n",
        "extension = file.rfind(\".\")\n",
        "if file[extension+1:] == \"gif\" or file[extension+1:] == \"jpeg\" or file[extension+1:] == \"png\":\n",
        "    print(f\"image/{file[extension+1:]}\")\n",
        "elif file[extension+1:] == \"jpg\":\n",
        "    print(\"image/jpeg\")\n",
        "elif file[extension+1:] == \"pdf\" or file[extension+1:] == \"zip\":\n",
        "    print(f\"application/{file[extension + 1:]}\")\n",
        "elif file[extension + 1:] == \"txt\":\n",
        "    print(\"text/plain\")\n",
        "else:\n",
        "    print(\"application/octet-stream\")"
      ]
    },
    {
      "cell_type": "markdown",
      "metadata": {
        "id": "9Su59aQboty0"
      },
      "source": [
        "#Math Interpreter"
      ]
    },
    {
      "cell_type": "code",
      "execution_count": null,
      "metadata": {
        "colab": {
          "base_uri": "https://localhost:8080/"
        },
        "id": "CDy2A6KxovSY",
        "outputId": "7baf63a0-fc23-4515-b562-d719c520deb4"
      },
      "outputs": [],
      "source": [
        "input_1 = int(input(\"Value of x =  \"))\n",
        "input_2 = int(input(\"Value of z =  \"))\n",
        "arithematic_operator = input(\"Value of y = \")\n",
        "if arithematic_operator == '+':\n",
        "  Addition = float(input_1 + input_2)\n",
        "  print('Addition = ', Addition)\n",
        "elif arithematic_operator == '-':\n",
        "  Subtraction = float(input_1 - input_2)\n",
        "  print('Subtraction = ', Subtraction)\n",
        "elif arithematic_operator == '*':\n",
        "  Multiplication = float(input_1 * input_2)\n",
        "  print('Multiplication = ',  Multiplication)\n",
        "else:\n",
        "  Division = float(input_1 / input_2)\n",
        "  print('Division =', Division)"
      ]
    },
    {
      "cell_type": "markdown",
      "metadata": {
        "id": "akWejk4x7AdW"
      },
      "source": [
        "#Meal Time"
      ]
    },
    {
      "cell_type": "code",
      "execution_count": null,
      "metadata": {
        "id": "LQrYI7iO7HkH"
      },
      "outputs": [],
      "source": [
        "def main():\n",
        "    answer = convert(input('What time it is? '))\n",
        "\n",
        "    if answer >= 7 and answer <= 8:\n",
        "        print('breakfast time')\n",
        "\n",
        "    if answer >= 12 and answer <= 13:\n",
        "        print('lunch time')\n",
        "\n",
        "    if answer >= 18 and answer <= 19:\n",
        "        print('dinner time')\n",
        "\n",
        "def convert(time):\n",
        "    hours, minutes = time.split(':')\n",
        "\n",
        "    new_minute = float(minutes) / 60\n",
        "\n",
        "    return float(hours) + new_minute\n",
        "\n",
        "\n",
        "if __name__ == \"__main__\":\n",
        "    main()"
      ]
    }
  ],
  "metadata": {
    "colab": {
      "provenance": []
    },
    "kernelspec": {
      "display_name": "Python 3",
      "name": "python3"
    },
    "language_info": {
      "name": "python"
    }
  },
  "nbformat": 4,
  "nbformat_minor": 0
}
