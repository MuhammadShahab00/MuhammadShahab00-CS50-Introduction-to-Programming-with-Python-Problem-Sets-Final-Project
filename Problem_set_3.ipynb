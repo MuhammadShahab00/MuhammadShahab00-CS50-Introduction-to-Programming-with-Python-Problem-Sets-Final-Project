{
  "cells": [
    {
      "cell_type": "markdown",
      "metadata": {
        "id": "PREdtSbwdQZz"
      },
      "source": [
        "#Fuel Guage"
      ]
    },
    {
      "cell_type": "code",
      "execution_count": null,
      "metadata": {
        "colab": {
          "base_uri": "https://localhost:8080/"
        },
        "id": "AIb5kxVedULh",
        "outputId": "c8117e20-2d0a-4bc2-c9e4-563ba878ae99"
      },
      "outputs": [],
      "source": [
        "while True:\n",
        "  fuel_input = input(\"Fraction: \")\n",
        "  try:\n",
        "      x , y = fuel_input.split(\"/\")\n",
        "      x1 = int(x)\n",
        "      y1 = int(y)\n",
        "      fraction = x1/y1\n",
        "      if fraction <= 1:\n",
        "        break\n",
        "  except (ValueError, ZeroDivisionError):\n",
        "      pass\n",
        "\n",
        "percentage = (round(fraction * 100) )\n",
        "if percentage <= 1:\n",
        "  print('E')\n",
        "elif percentage >= 99:\n",
        "  print('F')\n",
        "else:\n",
        "  print(f\"{percentage} %\")\n",
        "\n",
        "\n",
        "\n",
        "\n"
      ]
    },
    {
      "cell_type": "markdown",
      "metadata": {
        "id": "8b1IK52gE1lY"
      },
      "source": [
        "#Felipe's Taqueria"
      ]
    },
    {
      "cell_type": "code",
      "execution_count": null,
      "metadata": {
        "colab": {
          "base_uri": "https://localhost:8080/"
        },
        "id": "yiTAbVdCE8Nl",
        "outputId": "12ada7ec-e059-4b5a-e7ea-37fdc1d52302"
      },
      "outputs": [],
      "source": [
        "menu = {\n",
        "    \"Baja Taco\": 4.00,\n",
        "    \"Burrito\": 7.50,\n",
        "    \"Bowl\": 8.50,\n",
        "    \"Nachos\": 11.00,\n",
        "    \"Quesadilla\": 8.50,\n",
        "    \"Super Burrito\": 8.50,\n",
        "    \"Super Quesadilla\": 9.50,\n",
        "    \"Taco\": 3.00,\n",
        "    \"Tortilla Salad\": 8.00\n",
        "}\n",
        "total = 0\n",
        "while True:\n",
        "  try:\n",
        "    items = input(\" Items: \").title()\n",
        "    if items in menu:\n",
        "      total += menu[items]\n",
        "      print(\" Total: $\", end=\"\")\n",
        "      print(\"{:.2f}\".format(total))\n",
        "  except EOFError:\n",
        "    print()\n",
        "    break\n",
        "    \n"
      ]
    },
    {
      "cell_type": "markdown",
      "metadata": {
        "id": "F9WaaexLymRL"
      },
      "source": [
        "#GROCERY LIST"
      ]
    },
    {
      "cell_type": "code",
      "execution_count": null,
      "metadata": {
        "colab": {
          "base_uri": "https://localhost:8080/"
        },
        "id": "d_FdSxzQyoF5",
        "outputId": "cbbec88c-e5ad-469f-a6fb-8ee39cd38b6d"
      },
      "outputs": [],
      "source": [
        "# create dictionary\n",
        "grocery_dict = {}\n",
        "#while loop because we need to prompt the user for input\n",
        "while True:\n",
        "  try:\n",
        "    #get user input\n",
        "    item = input().lower()\n",
        "    #check if item exist in the dict\n",
        "    if item in grocery_dict:\n",
        "\n",
        "    # if item exist, add 1 in the count\n",
        "       grocery_dict[item]+= 1 \n",
        "\n",
        "    # else add the item for the first time\n",
        "    else:\n",
        "      grocery_dict[item] = 1\n",
        "\n",
        "  except EOFError:\n",
        "    for key in sorted (grocery_dict.keys()):\n",
        "      print (grocery_dict[key],key.upper())  \n",
        "    break\n"
      ]
    },
    {
      "cell_type": "markdown",
      "metadata": {
        "id": "KqY1J2fGufjD"
      },
      "source": [
        "#Outdate"
      ]
    },
    {
      "cell_type": "code",
      "execution_count": null,
      "metadata": {
        "colab": {
          "base_uri": "https://localhost:8080/"
        },
        "id": "ejw4cA2ruhu6",
        "outputId": "4fa1d864-c122-49a8-fac1-aec043ea3637"
      },
      "outputs": [],
      "source": [
        "#Create list with the name of all months\n",
        "months = [\n",
        "    \"January\",\n",
        "    \"February\",\n",
        "    \"March\",\n",
        "    \"April\",\n",
        "    \"May\",\n",
        "    \"June\",\n",
        "    \"July\",\n",
        "    \"August\",\n",
        "    \"September\",\n",
        "    \"October\",\n",
        "    \"November\",\n",
        "    \"December\"\n",
        "]\n",
        "\n",
        "while True:\n",
        "\n",
        "  date = input(\"Dated: \")\n",
        "  try:\n",
        "   #split the date by '/'\n",
        "\n",
        "   MM,DD,YY = date.split(\"/\")\n",
        "   if (int(MM) >= 1 and int(MM) <= 12) and (int(DD) >= 1 and (int(DD) <= 31)):\n",
        "     break\n",
        "  except:\n",
        "    try:\n",
        "\n",
        "     MM_1,DD_1,YY_1 = date.split(\" \")\n",
        "     for i in range(len(months)):\n",
        "       if MM_1 == months[i]:\n",
        "         MM = i + 1\n",
        "     #remove comma from dat variable\n",
        "     DD = DD_1.replace(\",\", \"\")\n",
        "     if (int(MM) >= 1 and int(MM) <= 12) and (int(DD) >= 1 and (int(DD) <= 31)):\n",
        "       break \n",
        "    except:\n",
        "       print()\n",
        "       pass\n",
        "print(f\"{YY}-{MM}-{DD}\")"
      ]
    }
  ],
  "metadata": {
    "colab": {
      "provenance": []
    },
    "kernelspec": {
      "display_name": "Python 3",
      "name": "python3"
    },
    "language_info": {
      "name": "python"
    }
  },
  "nbformat": 4,
  "nbformat_minor": 0
}
