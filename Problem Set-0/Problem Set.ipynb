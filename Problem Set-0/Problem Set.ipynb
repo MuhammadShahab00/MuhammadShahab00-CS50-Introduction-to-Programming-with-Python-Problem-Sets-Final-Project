{
  "nbformat": 4,
  "nbformat_minor": 0,
  "metadata": {
    "colab": {
      "provenance": []
    },
    "kernelspec": {
      "name": "python3",
      "display_name": "Python 3"
    },
    "language_info": {
      "name": "python"
    }
  },
  "cells": [
    {
      "cell_type": "markdown",
      "source": [
        "#Indoor Voice"
      ],
      "metadata": {
        "id": "4D2QhKSXdXIH"
      }
    },
    {
      "cell_type": "code",
      "source": [
        "x = input(\"Input in lowercare: \")\n",
        "print(x)"
      ],
      "metadata": {
        "id": "Ci6ElqVddZRL"
      },
      "execution_count": null,
      "outputs": []
    },
    {
      "cell_type": "code",
      "source": [
        "x = input('Input any text: ')\n",
        "y = x.lower()\n",
        "print(y)"
      ],
      "metadata": {
        "id": "0-wCeAAKeTXA"
      },
      "execution_count": null,
      "outputs": []
    },
    {
      "cell_type": "code",
      "source": [
        "print(input('Input in any text in upper case: ').strip().lower())"
      ],
      "metadata": {
        "id": "UuNswVwtgN7g"
      },
      "execution_count": null,
      "outputs": []
    },
    {
      "cell_type": "code",
      "source": [
        "def main():\n",
        "    indoor()\n",
        "\n",
        "def indoor():\n",
        "    print(input('Input in any text in upper case: ').strip().lower())\n",
        "main()"
      ],
      "metadata": {
        "id": "MKSdhKUUhUTu"
      },
      "execution_count": null,
      "outputs": []
    },
    {
      "cell_type": "code",
      "source": [
        "def indoor():\n",
        "    return input('Input in any text in upper case: ').strip().lower()\n",
        "  \n",
        "indoor()\n"
      ],
      "metadata": {
        "id": "ZBgFwmYQhp4u"
      },
      "execution_count": null,
      "outputs": []
    },
    {
      "cell_type": "code",
      "source": [
        "def main():\n",
        "    # Prompt the user to enter a string, make it lowercase\n",
        "    # and then print it\n",
        "    print(\"Shush:\", indoor(input(\"Text: \")))\n",
        "\n",
        "\n",
        "# Makes the string lowercase\n",
        "def indoor(voice: str) -> str:\n",
        "    return voice.lower()\n",
        "\n",
        "\n",
        "main()"
      ],
      "metadata": {
        "id": "Fje1GhIur-Cg"
      },
      "execution_count": null,
      "outputs": []
    },
    {
      "cell_type": "markdown",
      "source": [
        "#Playback Problem"
      ],
      "metadata": {
        "id": "8o4dsE5uFMkd"
      }
    },
    {
      "cell_type": "code",
      "source": [
        "def main():\n",
        "  playback()\n",
        "\n",
        "def playback():\n",
        "  user = input(\"Input: \").strip().title().replace(\" \",'...')\n",
        "  print(\"Output: \", user)\n",
        "\n",
        "main()"
      ],
      "metadata": {
        "colab": {
          "base_uri": "https://localhost:8080/"
        },
        "id": "ieYVPh7-FSnS",
        "outputId": "3904aeab-f869-46bd-cc18-09567540c434"
      },
      "execution_count": 2,
      "outputs": [
        {
          "output_type": "stream",
          "name": "stdout",
          "text": [
            "Input: help how are you\n",
            "Output:  Help...How...Are...You\n"
          ]
        }
      ]
    },
    {
      "cell_type": "code",
      "source": [
        "def main():\n",
        "  print(\"Output: \", playback())\n",
        "  \n",
        "def playback():\n",
        "  user = input(\"Input: \").strip().title().replace(\" \",'...')\n",
        "  return user\n",
        "main()"
      ],
      "metadata": {
        "colab": {
          "base_uri": "https://localhost:8080/"
        },
        "id": "WEJhvwLoWw7K",
        "outputId": "26d0b362-1c5c-44e6-c94c-2baa4716dbcb"
      },
      "execution_count": 3,
      "outputs": [
        {
          "output_type": "stream",
          "name": "stdout",
          "text": [
            "Input: hello shahab how are you\n",
            "Output:  Hello...Shahab...How...Are...You\n"
          ]
        }
      ]
    },
    {
      "cell_type": "code",
      "source": [
        "print(\"Output: \", input('Input: ').strip().title().replace(\" \",'...'))"
      ],
      "metadata": {
        "id": "08Isum4nFU2A",
        "colab": {
          "base_uri": "https://localhost:8080/"
        },
        "outputId": "4785628b-4756-4af5-efc3-51722c015f70"
      },
      "execution_count": 4,
      "outputs": [
        {
          "output_type": "stream",
          "name": "stdout",
          "text": [
            "Input: hello how are you shahab\n",
            "Output:  Hello...How...Are...You...Shahab\n"
          ]
        }
      ]
    },
    {
      "cell_type": "markdown",
      "source": [
        "#Making Faces"
      ],
      "metadata": {
        "id": "xYmambg_jSwK"
      }
    },
    {
      "cell_type": "code",
      "source": [
        "def main():\n",
        "    \n",
        "    user_input = input(\"Please enter text with smily or sad face: \").strip().title()\n",
        "    print(emoji(user_input))\n",
        "\n",
        "\n",
        "def emoji(user_input):\n",
        "  \n",
        "    output = user_input.replace(\":(\", \"🙁\").replace(\":)\", \"🙂\")\n",
        "    return output\n",
        " \n",
        "main()"
      ],
      "metadata": {
        "id": "EViNVIkQ8y7Y",
        "colab": {
          "base_uri": "https://localhost:8080/"
        },
        "outputId": "2c1d8fa4-d658-4cf8-a36e-56f3a33c18cc"
      },
      "execution_count": 1,
      "outputs": [
        {
          "output_type": "stream",
          "name": "stdout",
          "text": [
            "Please enter text with smily or sad face: hello :) :(\n",
            "Hello 🙂 🙁\n"
          ]
        }
      ]
    },
    {
      "cell_type": "markdown",
      "source": [
        "#Einstein Formula . E = mc^2"
      ],
      "metadata": {
        "id": "ADWncdl8texH"
      }
    },
    {
      "cell_type": "code",
      "source": [
        "def main():\n",
        "  einstein()\n",
        "\n",
        "def einstein():\n",
        "  speed_light = 300000000**2\n",
        "  print(\"Input_Mass (m): \", end=\" \")\n",
        "  input_mass = int(input())\n",
        "  output_E= (speed_light * input_mass)\n",
        "  print(\"E=mc^2 : \", round(output_E))\n",
        "\n",
        "main()"
      ],
      "metadata": {
        "colab": {
          "base_uri": "https://localhost:8080/"
        },
        "id": "tfKjqF4otpMu",
        "outputId": "2c69dc1c-962a-45aa-ed69-32fe169812fa"
      },
      "execution_count": 20,
      "outputs": [
        {
          "output_type": "stream",
          "name": "stdout",
          "text": [
            "Input_Mass (m):  50\n",
            "E=mc^2 :  4500000000000000000\n"
          ]
        }
      ]
    },
    {
      "cell_type": "markdown",
      "source": [
        "#Tip Calculator"
      ],
      "metadata": {
        "id": "Ec4uE19a5pqL"
      }
    },
    {
      "cell_type": "code",
      "source": [
        "def main():\n",
        "    dollars = dollars_to_float(input(\"How much was the meal? \"))\n",
        "    percent = percent_to_float(input(\"What percentage would you like to tip? \"))\n",
        "    tip = dollars * percent\n",
        "    print(f\"Leave ${tip:.2f}\")\n",
        "\n",
        "\n",
        "def dollars_to_float(d):\n",
        "    d_value_without_dsign = d.replace('$', '')\n",
        "    return float(d_value_without_dsign)\n",
        "\n",
        "\n",
        "def percent_to_float(p):\n",
        "    p_value_without_psign = p.replace('%', '')\n",
        "    return float(p_value_without_psign) / 100\n",
        "\n",
        "\n",
        "\n",
        "main()"
      ],
      "metadata": {
        "colab": {
          "base_uri": "https://localhost:8080/"
        },
        "id": "kXoSgMSe5pRO",
        "outputId": "3152e399-a150-4a2f-a19b-7eadc81683c1"
      },
      "execution_count": 24,
      "outputs": [
        {
          "output_type": "stream",
          "name": "stdout",
          "text": [
            "How much was the meal? $50.234\n",
            "What percentage would you like to tip? 15.232%\n",
            "Leave $7.65\n"
          ]
        }
      ]
    }
  ]
}