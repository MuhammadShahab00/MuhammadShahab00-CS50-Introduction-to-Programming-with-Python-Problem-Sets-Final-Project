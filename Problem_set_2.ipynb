{
  "cells": [
    {
      "cell_type": "markdown",
      "metadata": {
        "id": "nOn4641YuAB7"
      },
      "source": [
        "#Camel"
      ]
    },
    {
      "cell_type": "code",
      "execution_count": null,
      "metadata": {
        "colab": {
          "base_uri": "https://localhost:8080/"
        },
        "id": "FjJNIEnMuJ0I",
        "outputId": "3aede237-356f-419f-b49a-3693d2dfdbbb"
      },
      "outputs": [],
      "source": [
        "camelCase = input(\"camelCase: \")\n",
        "print(\"snake_case: \", end=(\"\"))\n",
        "for l in camelCase:\n",
        "  if l.isupper():\n",
        "    print('_' + l.lower(),end=\"\")\n",
        "  else:\n",
        "    print(l,end=(\"\"))\n",
        "print()"
      ]
    },
    {
      "cell_type": "markdown",
      "metadata": {
        "id": "KTgF7bA2x57j"
      },
      "source": [
        "#Coke Machine"
      ]
    },
    {
      "cell_type": "code",
      "execution_count": null,
      "metadata": {
        "colab": {
          "base_uri": "https://localhost:8080/"
        },
        "id": "EltUM4JNyDjL",
        "outputId": "09ebd578-3a6b-4eab-d6b6-60c53f8a6b5b"
      },
      "outputs": [],
      "source": [
        "amount_due = 50\n",
        "while amount_due > 0:\n",
        "  print(\"Amount_Due: \",amount_due)\n",
        "  coin=int(input(\"Insert Coin: \"))\n",
        "  if coin in [25,10,5]:\n",
        "    amount_due -= coin\n",
        "change_owed = abs(amount_due)\n",
        "print(\"Changed Owed: \", change_owed)"
      ]
    },
    {
      "cell_type": "markdown",
      "metadata": {
        "id": "E8iJPSaMIwPo"
      },
      "source": [
        "#Twitter\n"
      ]
    },
    {
      "cell_type": "code",
      "execution_count": null,
      "metadata": {
        "colab": {
          "base_uri": "https://localhost:8080/"
        },
        "id": "8Zz27XMaIyJo",
        "outputId": "86e7c0ff-dd01-44fa-cc9c-eb5ea7b274e1"
      },
      "outputs": [],
      "source": [
        "user_input = input(\"User_input: \")\n",
        "print(\"Output: \", end=(\"\"))\n",
        "for l in user_input:\n",
        "  if not l in [\"a\",\"e\",\"i\",\"o\",\"u\"]:\n",
        "    print(l,end=(\"\"))\n",
        "print()"
      ]
    },
    {
      "cell_type": "markdown",
      "metadata": {
        "id": "_HCsfb2ZPi91"
      },
      "source": [
        "#License Plate"
      ]
    },
    {
      "cell_type": "code",
      "execution_count": null,
      "metadata": {
        "colab": {
          "base_uri": "https://localhost:8080/"
        },
        "id": "uPBya5HDPlx-",
        "outputId": "f85cd1aa-e203-40f5-9fae-e155582da3f8"
      },
      "outputs": [],
      "source": [
        "def main():\n",
        "    plate = input(\"Plate: \")\n",
        "    if is_valid(plate):\n",
        "        print(\"Valid\")\n",
        "    else:\n",
        "        print(\"Invalid\")\n",
        "\n",
        "\n",
        "def is_valid(s):\n",
        "    if len(s) < 2 or len(s) > 6 :\n",
        "      return False\n",
        "\n",
        "\n",
        "    if s[0].isalpha() == False or s[1].isalpha() == False:\n",
        "      return False\n",
        "     \n",
        "\n",
        "    i = 0\n",
        "    while i < len(s):\n",
        "      if s[i].isalpha == False:\n",
        "        if s[i] == '0':\n",
        "          return False\n",
        "        else:\n",
        "          break\n",
        "      i += 1\n",
        "\n",
        "    for psp in s:\n",
        "       if psp in [\".\",\" \",\"!\"]:\n",
        "         return False\n",
        "    return True\n",
        "\n",
        "    \n",
        "main()"
      ]
    },
    {
      "cell_type": "markdown",
      "metadata": {
        "id": "N9NNoCnsYIzf"
      },
      "source": [
        "#Nutrition Facts"
      ]
    },
    {
      "cell_type": "code",
      "execution_count": null,
      "metadata": {
        "colab": {
          "base_uri": "https://localhost:8080/"
        },
        "id": "k5yrPtYVYKhu",
        "outputId": "a3bc945c-07b4-4de8-d3e7-6009f4dd518d"
      },
      "outputs": [],
      "source": [
        "fruits = {\"apple\":130,\n",
        "          \"avacado\":50,\n",
        "          \"banana\":110,\n",
        "          \"cantaloupe\":50,\n",
        "          \"grapefruit\":60,\n",
        "          \"grapes\":90,\n",
        "          \"honeydew melon\":50,\n",
        "          \"kiwifruits\":90,\n",
        "          \"lemon\":15,\n",
        "          \"lime\":20,\n",
        "          \"nectarine\":60,\n",
        "          \"orange\":80,\n",
        "          \"peach\":60,\n",
        "          \"pear\":100,\n",
        "          \"pineapple\":50,\n",
        "          \"plums\":70,\n",
        "          \"straberries\":50,\n",
        "          \"sweet cherries\":100,\n",
        "          \"tangerine\":50,\n",
        "          \"watermelon\":80\n",
        "}\n",
        "\n",
        "user_input = input(\"Item: \").lower().strip()\n",
        "\n",
        "if user_input in fruits:\n",
        "   print(\"Calories: \", fruits[user_input])\n",
        "else: \n",
        "  print(\"Not found: \", None)\n",
        "#for price in fruits:\n",
        "  #if price in user_input:\n",
        "    #print(\"Calories: \", fruits[price])\n",
        "  "
      ]
    }
  ],
  "metadata": {
    "colab": {
      "provenance": []
    },
    "kernelspec": {
      "display_name": "Python 3",
      "name": "python3"
    },
    "language_info": {
      "name": "python"
    }
  },
  "nbformat": 4,
  "nbformat_minor": 0
}
