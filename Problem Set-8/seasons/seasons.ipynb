{
  "nbformat": 4,
  "nbformat_minor": 0,
  "metadata": {
    "colab": {
      "provenance": []
    },
    "kernelspec": {
      "name": "python3",
      "display_name": "Python 3"
    },
    "language_info": {
      "name": "python"
    }
  },
  "cells": [
    {
      "cell_type": "code",
      "source": [
        "from datetime import date\n",
        "import re\n",
        "import sys\n",
        "import inflect \n",
        "\n",
        "p = inflect.engine()\n",
        "\n",
        "def main():\n",
        "    birth_date = input(\"Date of Birth: \")\n",
        "    try:\n",
        "      year, month, day = check_birthday(birth_date)\n",
        "\n",
        "    except:\n",
        "      sys.exit(\"Invalid Date\")\n",
        "    date_of_birth = date(int(year), int(month),int(day))\n",
        "    date_of_today = date.today()\n",
        "    diff=date_of_today -  date_of_birth\n",
        "    total_minutes = diff.days * 24 * 60\n",
        "    output = p.number_to_words(total_minutes, andword=\"\")\n",
        "    #print(date_of_birth)\n",
        "    #print(date_of_today)\n",
        "    print(total_minutes)\n",
        "    #print(diff.days)\n",
        "    print(output.capitalize()+ \" minutes\")\n",
        "\n",
        "def check_birthday(birth_date):\n",
        "  if re.search(r\"^[0-9]{4}-[0-9]{2}-[0-9]{2}$\",birth_date):\n",
        "    year,month,day = birth_date.split(\"-\")\n",
        "    return year, month, day\n",
        "\n",
        "      \n",
        "    \n",
        "if __name__ == \"__main__\":\n",
        "    main()"
      ],
      "metadata": {
        "colab": {
          "base_uri": "https://localhost:8080/"
        },
        "id": "rmhI1Znz1Xrw",
        "outputId": "4ec9c3c8-bdd0-424b-9083-187abf5e0130"
      },
      "execution_count": null,
      "outputs": [
        {
          "output_type": "stream",
          "name": "stdout",
          "text": [
            "Date of Birth: 1991-03-30\n",
            "16853760\n",
            "Sixteen million, eight hundred fifty-three thousand, seven hundred sixty minutes\n"
          ]
        }
      ]
    }
  ]
}